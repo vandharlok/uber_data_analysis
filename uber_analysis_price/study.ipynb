{
 "cells": [
  {
   "cell_type": "code",
   "execution_count": 1,
   "metadata": {},
   "outputs": [],
   "source": [
    "import pandas as pd"
   ]
  },
  {
   "cell_type": "code",
   "execution_count": 2,
   "metadata": {},
   "outputs": [
    {
     "name": "stdout",
     "output_type": "stream",
     "text": [
      "DataFrame:\n",
      "     A\n",
      "0   1\n",
      "1   2\n",
      "2   2\n",
      "3   3\n",
      "4   3\n",
      "5   3\n",
      "6   4\n",
      "7   5\n",
      "8   5\n",
      "9   5\n",
      "10  5\n",
      "Duplicated (keep='last'):\n",
      " 0     False\n",
      "1      True\n",
      "2     False\n",
      "3      True\n",
      "4      True\n",
      "5     False\n",
      "6     False\n",
      "7      True\n",
      "8      True\n",
      "9      True\n",
      "10    False\n",
      "dtype: bool\n"
     ]
    }
   ],
   "source": [
    "\n",
    "\n",
    "# Create a sample DataFrame\n",
    "data = {'A': [1, 2, 2, 3, 3, 3, 4, 5, 5, 5, 5]}\n",
    "df = pd.DataFrame(data)\n",
    "\n",
    "# Identify duplicates with keep='last'\n",
    "duplicates_last = df.duplicated(keep='last')\n",
    "\n",
    "# Display the DataFrame and the duplicates_last series\n",
    "print(\"DataFrame:\\n\", df)\n",
    "print(\"Duplicated (keep='last'):\\n\", duplicates_last)"
   ]
  },
  {
   "cell_type": "code",
   "execution_count": 3,
   "metadata": {},
   "outputs": [
    {
     "name": "stdout",
     "output_type": "stream",
     "text": [
      "DataFrame:\n",
      "     A\n",
      "0   1\n",
      "1   2\n",
      "2   2\n",
      "3   3\n",
      "4   3\n",
      "5   3\n",
      "6   4\n",
      "7   5\n",
      "8   5\n",
      "9   5\n",
      "10  5\n",
      "Duplicated (keep='last'):\n",
      " 0     False\n",
      "1     False\n",
      "2      True\n",
      "3     False\n",
      "4      True\n",
      "5      True\n",
      "6     False\n",
      "7     False\n",
      "8      True\n",
      "9      True\n",
      "10     True\n",
      "dtype: bool\n"
     ]
    }
   ],
   "source": [
    "# Create a sample DataFrame\n",
    "data = {'A': [1, 2, 2, 3, 3, 3, 4, 5, 5, 5, 5]}\n",
    "df = pd.DataFrame(data)\n",
    "\n",
    "# Identify duplicates with keep='last'\n",
    "duplicates_last = df.duplicated(keep='first')\n",
    "\n",
    "# Display the DataFrame and the duplicates_last series\n",
    "print(\"DataFrame:\\n\", df)\n",
    "print(\"Duplicated (keep='last'):\\n\", duplicates_last)"
   ]
  },
  {
   "cell_type": "code",
   "execution_count": 4,
   "metadata": {},
   "outputs": [
    {
     "name": "stdout",
     "output_type": "stream",
     "text": [
      "DataFrame:\n",
      "     A\n",
      "0   1\n",
      "1   2\n",
      "2   2\n",
      "3   3\n",
      "4   3\n",
      "5   3\n",
      "6   4\n",
      "7   5\n",
      "8   5\n",
      "9   5\n",
      "10  5\n",
      "Duplicated (keep='last'):\n",
      " 0     False\n",
      "1      True\n",
      "2      True\n",
      "3      True\n",
      "4      True\n",
      "5      True\n",
      "6     False\n",
      "7      True\n",
      "8      True\n",
      "9      True\n",
      "10     True\n",
      "dtype: bool\n"
     ]
    }
   ],
   "source": [
    "# Create a sample DataFrame\n",
    "data = {'A': [1, 2, 2, 3, 3, 3, 4, 5, 5, 5, 5]}\n",
    "df = pd.DataFrame(data)\n",
    "\n",
    "# Identify duplicates with keep='last'\n",
    "duplicates_last = df.duplicated(keep=False)\n",
    "\n",
    "# Display the DataFrame and the duplicates_last series\n",
    "print(\"DataFrame:\\n\", df)\n",
    "print(\"Duplicated (keep='last'):\\n\", duplicates_last)"
   ]
  },
  {
   "cell_type": "code",
   "execution_count": 5,
   "metadata": {},
   "outputs": [
    {
     "name": "stdout",
     "output_type": "stream",
     "text": [
      "DataFrame:\n",
      "     A\n",
      "0   1\n",
      "1   2\n",
      "2   2\n",
      "3   3\n",
      "4   3\n",
      "5   3\n",
      "6   4\n",
      "7   5\n",
      "8   5\n",
      "9   5\n",
      "10  5\n",
      "Duplicated (keep='last'):\n",
      " 0     False\n",
      "1     False\n",
      "2      True\n",
      "3     False\n",
      "4      True\n",
      "5      True\n",
      "6     False\n",
      "7     False\n",
      "8      True\n",
      "9      True\n",
      "10     True\n",
      "dtype: bool\n"
     ]
    }
   ],
   "source": [
    "# Create a sample DataFrame\n",
    "data = {'A': [1, 2, 2, 3, 3, 3, 4, 5, 5, 5, 5]}\n",
    "df = pd.DataFrame(data)\n",
    "\n",
    "# Identify duplicates with keep='last'\n",
    "duplicates_last = df.duplicated()\n",
    "\n",
    "# Display the DataFrame and the duplicates_last series\n",
    "print(\"DataFrame:\\n\", df)\n",
    "print(\"Duplicated (keep='last'):\\n\", duplicates_last)"
   ]
  },
  {
   "cell_type": "code",
   "execution_count": 6,
   "metadata": {},
   "outputs": [
    {
     "name": "stdout",
     "output_type": "stream",
     "text": [
      "DataFrame:\n",
      "     A\n",
      "0   1\n",
      "1   2\n",
      "2   2\n",
      "3   3\n",
      "4   3\n",
      "5   3\n",
      "6   4\n",
      "7   5\n",
      "8   5\n",
      "9   5\n",
      "10  5\n",
      "withou duplicates    A\n",
      "0  1\n",
      "1  2\n",
      "3  3\n",
      "6  4\n",
      "7  5\n"
     ]
    }
   ],
   "source": [
    "# Create a sample DataFrame\n",
    "data = {'A': [1, 2, 2, 3, 3, 3, 4, 5, 5, 5, 5]}\n",
    "df = pd.DataFrame(data)\n",
    "\n",
    "# Identify duplicates with keep='last'\n",
    "duplicates_last = df.drop_duplicates()\n",
    "\n",
    "# Display the DataFrame and the duplicates_last series\n",
    "print(\"DataFrame:\\n\", df)\n",
    "print(\"withou duplicates\", duplicates_last)"
   ]
  },
  {
   "cell_type": "code",
   "execution_count": 9,
   "metadata": {},
   "outputs": [
    {
     "name": "stdout",
     "output_type": "stream",
     "text": [
      "DataFrame:\n",
      "     A\n",
      "0   1\n",
      "1   2\n",
      "2   2\n",
      "3   3\n",
      "4   3\n",
      "5   3\n",
      "6   4\n",
      "7   5\n",
      "8   5\n",
      "9   5\n",
      "10  5\n",
      "withou duplicates     A\n",
      "0   1\n",
      "2   2\n",
      "5   3\n",
      "6   4\n",
      "10  5\n"
     ]
    }
   ],
   "source": [
    "# Create a sample DataFrame\n",
    "data = {'A': [1, 2, 2, 3, 3, 3, 4, 5, 5, 5, 5]}\n",
    "df = pd.DataFrame(data)\n",
    "\n",
    "# Identify duplicates with keep='last'\n",
    "duplicates_last = df.drop_duplicates(keep='last')\n",
    "\n",
    "# Display the DataFrame and the duplicates_last series\n",
    "print(\"DataFrame:\\n\", df)\n",
    "print(\"withou duplicates\", duplicates_last)"
   ]
  },
  {
   "cell_type": "code",
   "execution_count": 11,
   "metadata": {},
   "outputs": [],
   "source": [
    "duplicates_last.to_csv()\n",
    "duplicates_last.to_csv('out.csv')"
   ]
  }
 ],
 "metadata": {
  "kernelspec": {
   "display_name": "comp_vision",
   "language": "python",
   "name": "python3"
  },
  "language_info": {
   "codemirror_mode": {
    "name": "ipython",
    "version": 3
   },
   "file_extension": ".py",
   "mimetype": "text/x-python",
   "name": "python",
   "nbconvert_exporter": "python",
   "pygments_lexer": "ipython3",
   "version": "3.9.7"
  }
 },
 "nbformat": 4,
 "nbformat_minor": 2
}
